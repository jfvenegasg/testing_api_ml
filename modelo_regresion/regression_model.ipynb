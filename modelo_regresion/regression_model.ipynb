{
  "cells": [
    {
      "cell_type": "code",
      "execution_count": 1,
      "metadata": {
        "id": "XvNP3z45yyVO"
      },
      "outputs": [],
      "source": [
        "import pandas as pd\n",
        "import numpy as np\n",
        "import matplotlib.pyplot as plt\n",
        "import pickle\n",
        "from sklearn.model_selection import train_test_split\n",
        "from sklearn.linear_model import LinearRegression\n",
        "from sklearn.neural_network import MLPRegressor\n",
        "from sklearn.preprocessing import OneHotEncoder\n",
        "from sklearn.compose import ColumnTransformer\n",
        "from sklearn.pipeline import Pipeline"
      ]
    },
    {
      "cell_type": "code",
      "execution_count": 2,
      "metadata": {
        "id": "bUhEq-zXyjsz"
      },
      "outputs": [],
      "source": [
        "df = pd.read_csv('Renta.csv',sep=\",\",encoding='latin-1')\n",
        "df =pd.DataFrame(df)"
      ]
    },
    {
      "cell_type": "code",
      "execution_count": 31,
      "metadata": {
        "colab": {
          "base_uri": "https://localhost:8080/",
          "height": 272
        },
        "id": "7KL7YjLkywKh",
        "outputId": "7ac42e3c-52b8-4c6f-d7f0-63390cd5ae2b"
      },
      "outputs": [
        {
          "data": {
            "text/html": [
              "<div>\n",
              "<style scoped>\n",
              "    .dataframe tbody tr th:only-of-type {\n",
              "        vertical-align: middle;\n",
              "    }\n",
              "\n",
              "    .dataframe tbody tr th {\n",
              "        vertical-align: top;\n",
              "    }\n",
              "\n",
              "    .dataframe thead th {\n",
              "        text-align: right;\n",
              "    }\n",
              "</style>\n",
              "<table border=\"1\" class=\"dataframe\">\n",
              "  <thead>\n",
              "    <tr style=\"text-align: right;\">\n",
              "      <th></th>\n",
              "      <th>Años</th>\n",
              "      <th>Años_de_experiencia</th>\n",
              "      <th>Cargo</th>\n",
              "      <th>Sueldo</th>\n",
              "    </tr>\n",
              "  </thead>\n",
              "  <tbody>\n",
              "    <tr>\n",
              "      <th>0</th>\n",
              "      <td>28</td>\n",
              "      <td>3.00</td>\n",
              "      <td>Full-Stack</td>\n",
              "      <td>1600000</td>\n",
              "    </tr>\n",
              "    <tr>\n",
              "      <th>1</th>\n",
              "      <td>29</td>\n",
              "      <td>1.40</td>\n",
              "      <td>Full-Stack</td>\n",
              "      <td>900000</td>\n",
              "    </tr>\n",
              "    <tr>\n",
              "      <th>2</th>\n",
              "      <td>30</td>\n",
              "      <td>4.60</td>\n",
              "      <td>Full-Stack</td>\n",
              "      <td>1700000</td>\n",
              "    </tr>\n",
              "    <tr>\n",
              "      <th>3</th>\n",
              "      <td>34</td>\n",
              "      <td>5.80</td>\n",
              "      <td>Full-Stack</td>\n",
              "      <td>1890000</td>\n",
              "    </tr>\n",
              "    <tr>\n",
              "      <th>4</th>\n",
              "      <td>33</td>\n",
              "      <td>3.65</td>\n",
              "      <td>Full-Stack</td>\n",
              "      <td>1780000</td>\n",
              "    </tr>\n",
              "  </tbody>\n",
              "</table>\n",
              "</div>"
            ],
            "text/plain": [
              "   Años  Años_de_experiencia       Cargo   Sueldo\n",
              "0    28                 3.00  Full-Stack  1600000\n",
              "1    29                 1.40  Full-Stack   900000\n",
              "2    30                 4.60  Full-Stack  1700000\n",
              "3    34                 5.80  Full-Stack  1890000\n",
              "4    33                 3.65  Full-Stack  1780000"
            ]
          },
          "execution_count": 31,
          "metadata": {},
          "output_type": "execute_result"
        }
      ],
      "source": [
        "df.head(5)"
      ]
    },
    {
      "cell_type": "code",
      "execution_count": 4,
      "metadata": {
        "colab": {
          "base_uri": "https://localhost:8080/"
        },
        "id": "s5xcd0bjy3Yi",
        "outputId": "130462cd-c84f-4b85-eba1-c82bf218fbcb"
      },
      "outputs": [
        {
          "name": "stdout",
          "output_type": "stream",
          "text": [
            "<class 'pandas.core.frame.DataFrame'>\n",
            "RangeIndex: 30 entries, 0 to 29\n",
            "Data columns (total 4 columns):\n",
            " #   Column               Non-Null Count  Dtype  \n",
            "---  ------               --------------  -----  \n",
            " 0   Años                 30 non-null     int64  \n",
            " 1   Años_de_experiencia  30 non-null     float64\n",
            " 2   Cargo                30 non-null     object \n",
            " 3   Sueldo               30 non-null     int64  \n",
            "dtypes: float64(1), int64(2), object(1)\n",
            "memory usage: 1.1+ KB\n"
          ]
        }
      ],
      "source": [
        "df.info()"
      ]
    },
    {
      "cell_type": "code",
      "execution_count": 5,
      "metadata": {
        "id": "nXQyowXr9R1O"
      },
      "outputs": [],
      "source": [
        "#Feature\n",
        "X = df.loc[:, ['Años','Años_de_experiencia','Cargo']]\n",
        "\n",
        "#Variable dependiente\n",
        "y =df.loc[:, ['Sueldo']]"
      ]
    },
    {
      "cell_type": "code",
      "execution_count": 6,
      "metadata": {
        "id": "oXRgEakXDdun"
      },
      "outputs": [],
      "source": [
        "X_train, X_test, y_train, y_test = train_test_split(X, y, test_size= 0.2, random_state=2)"
      ]
    },
    {
      "cell_type": "code",
      "execution_count": 34,
      "metadata": {},
      "outputs": [],
      "source": [
        "y_train=np.ravel(y_train)\n",
        "y_test=np.ravel(y_test)"
      ]
    },
    {
      "cell_type": "code",
      "execution_count": 48,
      "metadata": {
        "id": "dMWVQ5VjDeel"
      },
      "outputs": [],
      "source": [
        "#Codificacion de variable categorica\n",
        "preprocessor = ColumnTransformer(\n",
        "    transformers=[\n",
        "        ('cat', OneHotEncoder(), ['Cargo'])\n",
        "    ],\n",
        "    remainder='passthrough'\n",
        ")\n",
        "\n",
        "# Entrenamiento del modelo\n",
        "modelo_1 = Pipeline([\n",
        "    ('preprocessor', preprocessor),\n",
        "    ('regressor', LinearRegression())\n",
        "])\n",
        "\n",
        "modelo_2 = Pipeline([\n",
        "    ('preprocessor', preprocessor),\n",
        "    ('regressor', MLPRegressor(solver=\"lbfgs\",max_iter=5000,hidden_layer_sizes=(30,30)))\n",
        "])\n",
        "\n",
        "\n",
        "modelo_1.fit(X_train, y_train)\n",
        "modelo_2.fit(X_train, y_train)\n",
        "\n",
        "y_pred_1 = modelo_1.predict(X_test)\n",
        "y_pred_2 = modelo_2.predict(X_test)"
      ]
    },
    {
      "cell_type": "code",
      "execution_count": 8,
      "metadata": {
        "colab": {
          "base_uri": "https://localhost:8080/",
          "height": 295
        },
        "id": "m63eFv4MJHd2",
        "outputId": "840d68de-19b1-4c25-a1d6-f3c6b99b26a6"
      },
      "outputs": [
        {
          "data": {
            "image/png": "[encoded data removed]",
            "text/plain": [
              "<Figure size 1200x600 with 2 Axes>"
            ]
          },
          "metadata": {},
          "output_type": "display_data"
        }
      ],
      "source": [
        "#Visualización de datos de entrenamiento\n",
        "plt.figure(figsize=(12, 6))\n",
        "\n",
        "plt.subplot(1, 2, 1)\n",
        "plt.scatter(X_train.loc[:, ['Años']], y_train, color = 'green')\n",
        "#viz_train.plot(X_train.loc[:, ['Años']], model.predict(X_train), color = 'black')\n",
        "plt.title('Sueldo vs Edad')\n",
        "plt.xlabel('Edad')\n",
        "plt.ylabel('Sueldo')\n",
        "\n",
        "\n",
        "plt.subplot(1, 2, 2)\n",
        "plt.scatter(X_train.loc[:, ['Años_de_experiencia']], y_train, color = 'blue')\n",
        "#viz_train.plot(X_train.loc[:, ['Años']], model.predict(X_train), color = 'black')\n",
        "plt.title('Sueldo vs Años de Experiencia')\n",
        "plt.xlabel('Años de Experiencia')\n",
        "plt.ylabel('Sueldo')\n",
        "\n",
        "plt.tight_layout()\n",
        "plt.show()"
      ]
    },
    {
      "cell_type": "code",
      "execution_count": 9,
      "metadata": {
        "colab": {
          "base_uri": "https://localhost:8080/",
          "height": 295
        },
        "id": "oMFROoWyJJoz",
        "outputId": "76010176-c06d-4db0-cdb8-6957d7d2667c"
      },
      "outputs": [
        {
          "data": {
            "image/png": "[encoded data removed]",
            "text/plain": [
              "<Figure size 1200x600 with 2 Axes>"
            ]
          },
          "metadata": {},
          "output_type": "display_data"
        }
      ],
      "source": [
        "#Visualización de datos de test\n",
        "plt.figure(figsize=(12, 6))\n",
        "\n",
        "plt.subplot(1, 2, 1)\n",
        "plt.scatter(X_test.loc[:, ['Años']], y_test, color = 'green')\n",
        "#viz_train.plot(X_train.loc[:, ['Años']], model.predict(X_train), color = 'black')\n",
        "plt.title('Sueldo vs Edad')\n",
        "plt.xlabel('Edad')\n",
        "plt.ylabel('Sueldo')\n",
        "\n",
        "\n",
        "plt.subplot(1, 2, 2)\n",
        "plt.scatter(X_test.loc[:, ['Años_de_experiencia']], y_test, color = 'blue')\n",
        "#viz_train.plot(X_train.loc[:, ['Años']], model.predict(X_train), color = 'black')\n",
        "plt.title('Sueldo vs Años de Experiencia')\n",
        "plt.xlabel('Años de Experiencia')\n",
        "plt.ylabel('Sueldo')\n",
        "\n",
        "plt.tight_layout()\n",
        "plt.show()"
      ]
    },
    {
      "cell_type": "code",
      "execution_count": 77,
      "metadata": {
        "colab": {
          "base_uri": "https://localhost:8080/"
        },
        "id": "3BMdaqSPEUYN",
        "outputId": "3742dd8d-67d4-498b-8e38-87acde5447ac"
      },
      "outputs": [
        {
          "name": "stdout",
          "output_type": "stream",
          "text": [
            "0.2820493202641323 0.5367047207585104\n"
          ]
        }
      ],
      "source": [
        "#Score del modelo de regresion multiple\n",
        "print(modelo_1.score(X_test, y_test),modelo_2.score(X_test, y_test))\n",
        "score_1=modelo_1.score(X_test, y_test)\n",
        "score_2=modelo_2.score(X_test, y_test)\n"
      ]
    },
    {
      "cell_type": "code",
      "execution_count": 79,
      "metadata": {
        "id": "ROc_MpprEn0U"
      },
      "outputs": [],
      "source": [
        "#Guardamos el modelo\n",
        "pickle.dump(modelo_1, open('modelo_1.pkl','wb'))\n",
        "pickle.dump(score_1, open('score_1.pkl','wb'))\n",
        "\n",
        "#Guardamos el modelo\n",
        "pickle.dump(modelo_2, open('modelo_2.pkl','wb'))\n",
        "pickle.dump(score_2, open('score_2.pkl','wb'))\n",
        "\n",
        "#Importamos el modelo guardado\n",
        "modelo_1 = pickle.load(open('modelo_1.pkl','rb'))\n",
        "score_1 = pickle.load(open('score_1.pkl','rb'))\n",
        "\n",
        "#Importamos el modelo guardado\n",
        "modelo_2 = pickle.load(open('modelo_2.pkl','rb'))\n",
        "score_2 = pickle.load(open('score_2.pkl','rb'))\n"
      ]
    },
    {
      "cell_type": "code",
      "execution_count": 81,
      "metadata": {
        "colab": {
          "base_uri": "https://localhost:8080/"
        },
        "id": "sAj8iCuwITzK",
        "outputId": "f5de9a43-2d2d-4d64-a8fe-1295fcbb7cd9"
      },
      "outputs": [],
      "source": [
        "#Input para ingresar la edad,experiencia y cargo\n",
        "experiencia = float(input('Ingrese el valor de Años de experiencia: '))\n",
        "edad = float(input('Ingrese el valor de Edad: '))\n",
        "cargo = input('Ingrese el Cargo: ')\n",
        "\n",
        "# Se almacenan valores de entrada en un data frame\n",
        "data = pd.DataFrame({'Años': [edad],'Años_de_experiencia': [experiencia], 'Cargo': [cargo]})\n",
        "\n",
        "#Predicción del sueldo.\n",
        "sueldo_1 = modelo_1.predict(data)\n",
        "sueldo_2 = modelo_2.predict(data)"
      ]
    },
    {
      "cell_type": "code",
      "execution_count": 82,
      "metadata": {
        "colab": {
          "base_uri": "https://localhost:8080/"
        },
        "id": "ljEENCNcQviZ",
        "outputId": "32e6475f-7ab9-4b31-9447-12a02300c3d9"
      },
      "outputs": [
        {
          "name": "stdout",
          "output_type": "stream",
          "text": [
            "sueldo 1 $1,996,339.00 y el score es 0.2820493202641323 sueldo 2 $1,709,816.00 y el score es 0.2820493202641323\n"
          ]
        }
      ],
      "source": [
        "#Se redondea la prediccion del sueldo\n",
        "sueldo_1= \"${:,.2f}\".format(int(sueldo_1[0]))\n",
        "sueldo_2= \"${:,.2f}\".format(int(sueldo_2[0]))\n"
      ]
    },
    {
      "cell_type": "code",
      "execution_count": 84,
      "metadata": {},
      "outputs": [
        {
          "name": "stdout",
          "output_type": "stream",
          "text": [
            "sueldo 1 $1,996,339.00 y el score es $0.28 sueldo 2 $1,709,816.00 y el score es $0.54\n"
          ]
        }
      ],
      "source": [
        "#print(data)\n",
        "print(\"sueldo 1\",sueldo_1,\"y el score es\",\"${:,.2f}\".format(score_1),\"sueldo 2\",sueldo_2,\"y el score es\",\"${:,.2f}\".format(score_2))"
      ]
    }
  ],
  "metadata": {
    "colab": {
      "collapsed_sections": [],
      "name": "regression-model.ipynb",
      "provenance": []
    },
    "kernelspec": {
      "display_name": "Python 3",
      "name": "python3"
    },
    "language_info": {
      "codemirror_mode": {
        "name": "ipython",
        "version": 3
      },
      "file_extension": ".py",
      "mimetype": "text/x-python",
      "name": "python",
      "nbconvert_exporter": "python",
      "pygments_lexer": "ipython3",
      "version": "3.10.7"
    }
  },
  "nbformat": 4,
  "nbformat_minor": 0
}
